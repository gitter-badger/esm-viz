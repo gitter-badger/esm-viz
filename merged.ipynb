{
 "cells": [
  {
   "cell_type": "code",
   "execution_count": null,
   "metadata": {},
   "outputs": [],
   "source": [
    "# General Imports\n",
    "import matplotlib.pyplot as plt\n",
    "%matplotlib inline"
   ]
  },
  {
   "cell_type": "code",
   "execution_count": 5,
   "metadata": {},
   "outputs": [
    {
     "name": "stdout",
     "output_type": "stream",
     "text": [
      "{'user': 'a270077', 'host': 'mistral.dkrz.de', 'basedir': '/work/ba0989/a270077/AWICM_PISM/LGM-CTRL_ICE6G_PISM_20km_atmosphere_only', 'model': 'AWICM', 'coupling': 'awicm pism_standalone', 'general': ['queue info', 'progress', 'disk usage'], 'echam': {'Global Timeseries': [{'temp2': '${EXP_ID}_echam6_echam_??????.grb'}, 'aprt'], 'Climatology Maps': ['temp2', 'aprt']}, 'fesom': {'Special Timeseries': ['AMOC']}}\n"
     ]
    },
    {
     "name": "stderr",
     "output_type": "stream",
     "text": [
      "/home/csys/pgierz/esm-viz/esm_viz/esm_viz.py:28: YAMLLoadWarning: calling yaml.load() without Loader=... is deprecated, as the default Loader is unsafe. Please read https://msg.pyyaml.org/load for full details.\n",
      "  sim_monitoring_dict = yaml.load(config_file)\n"
     ]
    }
   ],
   "source": [
    "# Get the config file:\n",
    "import argparse\n",
    "import os\n",
    "import sys\n",
    "\n",
    "from esm_viz.esm_viz import read_simulation_config\n",
    "\n",
    "CONFIG_FILE = '.config_ipynb'\n",
    "\n",
    "if os.path.isfile(CONFIG_FILE):\n",
    "    with open(CONFIG_FILE) as f:\n",
    "        sys.argv = f.read().split()\n",
    "else:\n",
    "    sys.argv = ['test_args.py', '/home/csys/pgierz/.config/monitoring/example.yaml']\n",
    "\n",
    "parser = argparse.ArgumentParser()\n",
    "parser.add_argument(\"input_file\", help=\"Input image, directory, or npy.\")\n",
    "args = parser.parse_args()\n",
    "config = read_simulation_config(args.input_file)"
   ]
  },
  {
   "cell_type": "code",
   "execution_count": null,
   "metadata": {},
   "outputs": [],
   "source": [
    "from esm_viz.visualization import general\n",
    "def plot_usage(exp_usage, total_usage, total_quota):\n",
    "    total_free = total_quota - total_usage\n",
    "    total_not_this_exp = total_usage - exp_usage\n",
    "    f, ax = plt.subplots(1, 1, dpi=150, figsize=(2.5,2.5))\n",
    "    ax.pie([exp_usage, total_not_this_exp, total_free],\n",
    "           colors=[\"lightblue\", \"lightgray\", \"white\"],\n",
    "           labels=[\"This Exp\", \"Other Storage\", \"Free\"],\n",
    "           autopct='%1.1f%%', shadow=True, startangle=90,\n",
    "           explode=(0.1, 0, 0), textprops={\"fontsize\": 5})\n",
    "    return f, ax\n",
    "f, ax = plot_usage(*general.disk_usage(config))"
   ]
  }
 ],
 "metadata": {
  "kernelspec": {
   "display_name": "Python 3",
   "language": "python",
   "name": "python3"
  },
  "language_info": {
   "codemirror_mode": {
    "name": "ipython",
    "version": 3
   },
   "file_extension": ".py",
   "mimetype": "text/x-python",
   "name": "python",
   "nbconvert_exporter": "python",
   "pygments_lexer": "ipython3",
   "version": "3.6.5"
  },
  "name": "_merged"
 },
 "nbformat": 4,
 "nbformat_minor": 2
}