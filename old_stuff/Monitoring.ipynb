{
 "cells": [
  {
   "cell_type": "code",
   "execution_count": 48,
   "metadata": {
    "collapsed": true
   },
   "outputs": [],
   "source": [
    "import sys\n",
    "import os\n",
    "import argparse\n",
    "from IPython.display import HTML\n",
    "import subprocess\n",
    "import pandas as pd "
   ]
  },
  {
   "cell_type": "code",
   "execution_count": 6,
   "metadata": {
    "collapsed": true
   },
   "outputs": [],
   "source": [
    "# Get the experiment path from command line\n",
    "CONFIG_FILE = '.config_ipynb'\n",
    "if os.path.isfile(CONFIG_FILE):\n",
    "    with open(CONFIG_FILE) as f:\n",
    "        sys.argv = f.read().split()\n",
    "else:\n",
    "    sys.argv = ['test_args.py', 'input_file', '--exp_path', 'test']\n",
    "\n",
    "parser = argparse.ArgumentParser()\n",
    "parser.add_argument(\"input_file\",help=\"Input image, directory, or npy.\")\n",
    "parser.add_argument(\"--exp_path\", type=str, default=\"test\",\n",
    "                    help=\"Path to your experiment's runscript\")\n",
    "args = parser.parse_args()\n",
    "exp_path = args.exp_path\n",
    "# Remove later, just for testing:\n",
    "exp_runscript = \"/work/ollie/pgierz/awicm_pism_tests/new_hope/scripts/awicm-pism_minitest.run\""
   ]
  },
  {
   "cell_type": "markdown",
   "metadata": {},
   "source": [
    "# Monitoring for"
   ]
  },
  {
   "cell_type": "code",
   "execution_count": 29,
   "metadata": {},
   "outputs": [
    {
     "name": "stdout",
     "output_type": "stream",
     "text": [
      "/work/ollie/pgierz/awicm_pism_tests/new_hope/scripts/awicm-pism_minitest.run\n",
      "/work/ollie/pgierz/awicm_pism_tests/new_hope\n"
     ]
    }
   ],
   "source": [
    "print(exp_runscript)\n",
    "exp_top = exp_runscript.split(\"/\")[:-2]\n",
    "print(\"/\".join(exp_top))"
   ]
  },
  {
   "cell_type": "code",
   "execution_count": 96,
   "metadata": {},
   "outputs": [
    {
     "data": {
      "text/plain": [
       "environ({'MODULE_VERSION_STACK': '3.2.10', 'MANPATH': '/global/AWIsoft/proj/4.9.3/share/man:/global/AWIsoft/intel/2018/intelpython3/share/man:/opt/munge/default/share/man::/global/opt/slurm/default/share/man:', 'XDG_SESSION_ID': '1346098', 'HOSTNAME': 'ollie1', 'TERM': 'xterm-color', 'SHELL': '/bin/bash', 'HISTSIZE': '50000', 'SSH_CLIENT': '172.26.1.151 59168 22', 'QTDIR': '/usr/lib64/qt-3.3', 'QTINC': '/usr/lib64/qt-3.3/include', 'SSH_TTY': '/dev/pts/27', 'QT_GRAPHICSSYSTEM_CHECKED': '1', 'USER': 'pgierz', 'LD_LIBRARY_PATH': '/global/AWIsoft/proj/4.9.3/lib:/opt/cray/lib64:/usr/lib64:/opt/cray/lib64:/usr/lib64:/global/AWIsoft/intel/2018/intelpython3/lib', 'LS_COLORS': 'no=00:rs=0:fi=00:di=01;34:ln=36:mh=04;36:pi=04;01;36:so=04;33:do=04;01;36:bd=01;33:cd=33:or=31:mi=01;37;41:ex=01;36:su=01;04;37:sg=01;04;37:ca=01;37:tw=01;37;44:ow=01;04;34:st=04;37;44:*.7z=01;32:*.ace=01;32:*.alz=01;32:*.arc=01;32:*.arj=01;32:*.bz=01;32:*.bz2=01;32:*.cab=01;32:*.cpio=01;32:*.deb=01;32:*.dz=01;32:*.ear=01;32:*.gz=01;32:*.jar=01;32:*.lha=01;32:*.lrz=01;32:*.lz=01;32:*.lz4=01;32:*.lzh=01;32:*.lzma=01;32:*.lzo=01;32:*.rar=01;32:*.rpm=01;32:*.rz=01;32:*.sar=01;32:*.t7z=01;32:*.tar=01;32:*.taz=01;32:*.tbz=01;32:*.tbz2=01;32:*.tgz=01;32:*.tlz=01;32:*.txz=01;32:*.tz=01;32:*.tzo=01;32:*.tzst=01;32:*.war=01;32:*.xz=01;32:*.z=01;32:*.Z=01;32:*.zip=01;32:*.zoo=01;32:*.zst=01;32:*.aac=32:*.au=32:*.flac=32:*.m4a=32:*.mid=32:*.midi=32:*.mka=32:*.mp3=32:*.mpa=32:*.mpeg=32:*.mpg=32:*.ogg=32:*.opus=32:*.ra=32:*.wav=32:*.3des=01;35:*.aes=01;35:*.gpg=01;35:*.pgp=01;35:*.doc=32:*.docx=32:*.dot=32:*.odg=32:*.odp=32:*.ods=32:*.odt=32:*.otg=32:*.otp=32:*.ots=32:*.ott=32:*.pdf=32:*.ppt=32:*.pptx=32:*.xls=32:*.xlsx=32:*.app=01;36:*.bat=01;36:*.btm=01;36:*.cmd=01;36:*.com=01;36:*.exe=01;36:*.reg=01;36:*~=02;37:*.bak=02;37:*.BAK=02;37:*.log=02;37:*.log=02;37:*.old=02;37:*.OLD=02;37:*.orig=02;37:*.ORIG=02;37:*.swo=02;37:*.swp=02;37:*.bmp=32:*.cgm=32:*.dl=32:*.dvi=32:*.emf=32:*.eps=32:*.gif=32:*.jpeg=32:*.jpg=32:*.JPG=32:*.mng=32:*.pbm=32:*.pcx=32:*.pgm=32:*.png=32:*.PNG=32:*.ppm=32:*.pps=32:*.ppsx=32:*.ps=32:*.svg=32:*.svgz=32:*.tga=32:*.tif=32:*.tiff=32:*.xbm=32:*.xcf=32:*.xpm=32:*.xwd=32:*.xwd=32:*.yuv=32:*.anx=32:*.asf=32:*.avi=32:*.axv=32:*.flc=32:*.fli=32:*.flv=32:*.gl=32:*.m2v=32:*.m4v=32:*.mkv=32:*.mov=32:*.MOV=32:*.mp4=32:*.mpeg=32:*.mpg=32:*.nuv=32:*.ogm=32:*.ogv=32:*.ogx=32:*.qt=32:*.rm=32:*.rmvb=32:*.swf=32:*.vob=32:*.webm=32:*.wmv=32:', 'SSH_AUTH_SOCK': '/tmp/ssh-bJPhilg0EX/agent.192230', 'MODULE_VERSION': '3.2.10', 'MAIL': '/var/spool/mail/pgierz', 'PATH': '/global/AWIsoft/intel/2018/intelpython3/bin:/global/AWIsoft/proj/4.9.3/bin:/global/AWIsoft/intel/2018/intelpython3/bin:/usr/lib64/qt-3.3/bin:/usr/local/bin:/usr/bin:/usr/local/sbin:/usr/sbin:/opt/munge/default/bin:/global/opt/slurm/default/bin', 'PWD': '/home/ollie/pgierz/esm-master/esm_monitoring', 'LANG': 'en_US.UTF-8', 'MODULEPATH': '/home/ollie/pgierz/.modules:/opt/cray/craype/default/modulefiles:/opt/cray/modulefiles:/opt/modulefiles:/global/AWImodules/:/global/AWImodules_deprecated/', 'KDEDIRS': '/usr', 'HISTCONTROL': 'ignoredups', 'SHLVL': '2', 'HOME': '/home/ollie/pgierz', 'LOGNAME': 'pgierz', 'QTLIB': '/usr/lib64/qt-3.3/lib', 'CVS_RSH': 'ssh', 'SSH_CONNECTION': '172.26.1.151 59168 172.18.20.82 22', 'LC_CTYPE': 'en_US.UTF-8', 'MODULESHOME': '/usr/Modules/3.2.10', 'LESSOPEN': '||/usr/bin/lesspipe.sh %s', 'XDG_RUNTIME_DIR': '/run/user/4156', 'DISPLAY': '10.10.0.22:36.0', 'QT_PLUGIN_PATH': '/usr/lib64/kde4/plugins:/usr/lib/kde4/plugins', 'BASH_FUNC_module()': '() {  eval `/usr/Modules/$MODULE_VERSION/bin/modulecmd bash $*`\\n}', '_': '/global/AWIsoft/intel/2018/intelpython3/bin/jupyter', 'OLDPWD': '/home/ollie/pgierz/esm-master', 'TMOUT': '172800', 'ZSH': '/home/ollie/pgierz/.dotfiles', 'PAGER': 'cat', 'LESS': '-R', 'LSCOLORS': 'Gxfxcxdxbxegedabagacad', 'CPATH': '/global/AWIsoft/proj/4.9.3/include:/global/AWIsoft/intel/2018/intelpython3/include', 'C_INCLUDE_PATH': '/global/AWIsoft/proj/4.9.3/include:/global/AWIsoft/intel/2018/intelpython3/include', 'LD_RUN_PATH': '/global/AWIsoft/proj/4.9.3/lib:/global/AWIsoft/intel/2018/intelpython3/lib', 'LOADEDMODULES': 'python3/3.6.3-intel2018', 'PKG_CONFIG_PATH': '/global/AWIsoft/proj/4.9.3/lib/pkgconfig:/global/AWIsoft/intel/2018/intelpython3/lib/pkgconfig', 'PYTHONHOME': '/global/AWIsoft/intel/2018/intelpython3', 'PYTHONPATH': '/global/AWIsoft/intel/2018/intelpython3/lib', 'PYTHON_LIBRARY': '/global/AWIsoft/intel/2018/intelpython3/lib/libpython3.so', '_LMFILES_': '/global/AWImodules//python3/3.6.3-intel2018', 'JPY_PARENT_PID': '14408', 'CLICOLOR': '1', 'GIT_PAGER': 'cat', 'MPLBACKEND': 'module://ipykernel.pylab.backend_inline'})"
      ]
     },
     "execution_count": 96,
     "metadata": {},
     "output_type": "execute_result"
    }
   ],
   "source": [
    "os.environ"
   ]
  },
  {
   "cell_type": "code",
   "execution_count": 11,
   "metadata": {},
   "outputs": [
    {
     "data": {
      "text/plain": [
       "'ollie'"
      ]
     },
     "execution_count": 11,
     "metadata": {},
     "output_type": "execute_result"
    }
   ],
   "source": [
    "# Read in the definitions from the runscript:\n",
    "with open(exp_runscript) as f:\n",
    "    runscript = f.readlines()\n",
    "machine = [l for l in runscript if \"machine_name\" in l][0].split(\"=\")[1].split(\" \")[0]\n",
    "machine"
   ]
  },
  {
   "cell_type": "code",
   "execution_count": 97,
   "metadata": {},
   "outputs": [
    {
     "data": {
      "text/html": [
       "<div>\n",
       "<style>\n",
       "    .dataframe thead tr:only-child th {\n",
       "        text-align: right;\n",
       "    }\n",
       "\n",
       "    .dataframe thead th {\n",
       "        text-align: left;\n",
       "    }\n",
       "\n",
       "    .dataframe tbody tr th {\n",
       "        vertical-align: top;\n",
       "    }\n",
       "</style>\n",
       "<table border=\"1\" class=\"dataframe\">\n",
       "  <thead>\n",
       "    <tr style=\"text-align: right;\">\n",
       "      <th></th>\n",
       "      <th>JOBID</th>\n",
       "      <th>PARTITION</th>\n",
       "      <th>NAME</th>\n",
       "      <th>USER</th>\n",
       "      <th>STATE</th>\n",
       "      <th>START_TIME</th>\n",
       "      <th>TIME</th>\n",
       "      <th>TIME_LIMI</th>\n",
       "      <th>NODES</th>\n",
       "      <th>NODELIST(REASON)</th>\n",
       "    </tr>\n",
       "  </thead>\n",
       "  <tbody>\n",
       "    <tr>\n",
       "      <th>0</th>\n",
       "      <td>2473677</td>\n",
       "      <td>mpp</td>\n",
       "      <td>ugh</td>\n",
       "      <td>pgierz</td>\n",
       "      <td>RUNNING</td>\n",
       "      <td>2018-10-10 14:51:06</td>\n",
       "      <td>16:09</td>\n",
       "      <td>3:00:00</td>\n",
       "      <td>20</td>\n",
       "      <td>prod-[0004-0005,0010-0011,0014-0015,0022-0025,...</td>\n",
       "    </tr>\n",
       "    <tr>\n",
       "      <th>1</th>\n",
       "      <td>2473669</td>\n",
       "      <td>mpp</td>\n",
       "      <td>newer_hope</td>\n",
       "      <td>pgierz</td>\n",
       "      <td>RUNNING</td>\n",
       "      <td>2018-10-10 14:04:10</td>\n",
       "      <td>1:03:05</td>\n",
       "      <td>3:00:00</td>\n",
       "      <td>20</td>\n",
       "      <td>prod-[0041-0042,0120-0121,0124-0125,0143-0144,...</td>\n",
       "    </tr>\n",
       "  </tbody>\n",
       "</table>\n",
       "</div>"
      ],
      "text/plain": [
       "     JOBID PARTITION        NAME    USER    STATE          START_TIME  \\\n",
       "0  2473677       mpp         ugh  pgierz  RUNNING 2018-10-10 14:51:06   \n",
       "1  2473669       mpp  newer_hope  pgierz  RUNNING 2018-10-10 14:04:10   \n",
       "\n",
       "      TIME TIME_LIMI NODES                                   NODELIST(REASON)  \n",
       "0    16:09   3:00:00    20  prod-[0004-0005,0010-0011,0014-0015,0022-0025,...  \n",
       "1  1:03:05   3:00:00    20  prod-[0041-0042,0120-0121,0124-0125,0143-0144,...  "
      ]
     },
     "execution_count": 97,
     "metadata": {},
     "output_type": "execute_result"
    }
   ],
   "source": [
    "# Figure out what batch system we have, and print the queue if we can\n",
    "function_path = [l for l in runscript if \"FUNCTION_PATH\" in l][0].split(\"=\")[1].split(\" \")[0].strip()\n",
    "if \"slurm\" in open(function_path+\"/\"+machine+\".functions\").read():\n",
    "    batch_system = \"slurm\"\n",
    "    queue_status = subprocess.getoutput([\"squeue -o \\\"%.18i %.9P %.20j %.8u %.8T  %S %.10M %.9l %.6D %R\\\" -u \"+os.environ[\"USER\"]])\n",
    "    queue_status = [\" \".join(l.split()) for l in queue_status.split(\"\\n\")]\n",
    "    queue_status = [l.split() for l in queue_status]\n",
    "    queue_df = pd.DataFrame(queue_status[1:])\n",
    "    queue_df.columns = queue_status[0]\n",
    "    queue_df[\"START_TIME\"] = pd.to_datetime(queue_df[\"START_TIME\"])\n",
    "else:\n",
    "    batch_system = \"undefined\"\n",
    "queue_df"
   ]
  },
  {
   "cell_type": "code",
   "execution_count": 22,
   "metadata": {},
   "outputs": [],
   "source": [
    "    def get_log_output(exp_path):\n",
    "        expid = exp_path.split(\"/\")[-1]\n",
    "        stdin, stdout, stderr = client.exec_command('cat '+exp_path+\"/scripts/\"+expid+\".log\")\n",
    "        return stdout\n",
    "\n",
    "    def generate_dataframe_from_mpiesm_logfile(log):\n",
    "        log_dataframe = pd.read_table(log,\n",
    "                                      sep=r\" :  | -\" ,\n",
    "                                      skiprows=1,\n",
    "                                      infer_datetime_format=True,\n",
    "                                      names=[\"Date\", \"Message\", \"State\"],\n",
    "                                      engine='python', index_col=0)\n",
    "    middle_column = log_dataframe[\"Message\"].apply(lambda x: pd.Series(str(x).split()))\n",
    "    log_dataframe.drop(\"Message\", axis=1, inplace=True)\n",
    "    middle_column.columns = [\"Run Number\", \"Exp Date\", \"Job ID\"]\n",
    "    log_dataframe = pd.concat([log_dataframe, middle_column], axis=1)\n",
    "    log_dataframe.set_index(pd.to_datetime(log_dataframe.index), inplace=True)\n",
    "    return log_dataframe\n",
    "\n",
    "def compute_effective_throughput(log_dataframe, verbose=False):\n",
    "    starts = log_dataframe[log_dataframe.State == \" start\"]\n",
    "    ends = log_dataframe[log_dataframe.State == \" done\"]\n",
    "    starts = starts.index.tolist()\n",
    "    ends = ends.index.tolist()\n",
    "    starts = starts[:len(ends)]  # FIXME: the needs to be checked in both directions, and always norm to the shorter list\n",
    "    diffs = [ends[i] - starts[i] for i in range(len(ends))]\n",
    "    average_timedelta = sum(diffs, datetime.timedelta(0)) / len(diffs)\n",
    "    DAY = datetime.timedelta(1)\n",
    "    throughput = DAY / average_timedelta\n",
    "    if verbose:\n",
    "        print(\"Your run is taking %s on average\" % average_timedelta)\n",
    "        print(\"this is an effective throughput of %s simulated runs per day, assuming no queue time\" % throughput)\n",
    "    return average_timedelta, throughput\n",
    "\n",
    "client = paramiko.SSHClient()\n",
    "client.load_system_host_keys()\n",
    "client.connect('stan1.awi.de')\n",
    "stdin, stdout, stderr = client.exec_command('qstat -l')\n",
    "\n",
    "queue_status = stdout.readlines()\n",
    "queue_status = [l.split() for l in queue_status]\n",
    "del queue_status[1]\n",
    "queue_df = pd.DataFrame(queue_status[1:])\n",
    "queue_df.columns = queue_status[0]\n",
    "queue_df\n"
   ]
  }
 ],
 "metadata": {
  "kernelspec": {
   "display_name": "Python 3",
   "language": "python",
   "name": "python3"
  },
  "language_info": {
   "codemirror_mode": {
    "name": "ipython",
    "version": 3
   },
   "file_extension": ".py",
   "mimetype": "text/x-python",
   "name": "python",
   "nbconvert_exporter": "python",
   "pygments_lexer": "ipython3",
   "version": "3.6.3"
  }
 },
 "nbformat": 4,
 "nbformat_minor": 2
}
