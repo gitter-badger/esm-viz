{
 "cells": [
  {
   "cell_type": "code",
   "execution_count": 48,
   "metadata": {
    "collapsed": true
   },
   "outputs": [],
   "source": [
    "import sys\n",
    "import os\n",
    "import argparse\n",
    "from IPython.display import HTML\n",
    "import subprocess\n",
    "import pandas as pd "
   ]
  },
  {
   "cell_type": "code",
   "execution_count": 6,
   "metadata": {
    "collapsed": true
   },
   "outputs": [],
   "source": [
    "# Get the experiment path from command line\n",
    "CONFIG_FILE = '.config_ipynb'\n",
    "if os.path.isfile(CONFIG_FILE):\n",
    "    with open(CONFIG_FILE) as f:\n",
    "        sys.argv = f.read().split()\n",
    "else:\n",
    "    sys.argv = ['test_args.py', 'input_file', '--exp_path', 'test']\n",
    "\n",
    "parser = argparse.ArgumentParser()\n",
    "parser.add_argument(\"input_file\",help=\"Input image, directory, or npy.\")\n",
    "parser.add_argument(\"--exp_path\", type=str, default=\"test\",\n",
    "                    help=\"Path to your experiment's runscript\")\n",
    "args = parser.parse_args()\n",
    "exp_path = args.exp_path\n",
    "# Remove later, just for testing:\n",
    "exp_runscript = \"/work/ollie/pgierz/awicm_pism_tests/new_hope/scripts/awicm-pism_minitest.run\""
   ]
  },
  {
   "cell_type": "markdown",
   "metadata": {},
   "source": [
    "# Monitoring for"
   ]
  },
  {
   "cell_type": "code",
   "execution_count": 29,
   "metadata": {},
   "outputs": [
    {
     "name": "stdout",
     "output_type": "stream",
     "text": [
      "/work/ollie/pgierz/awicm_pism_tests/new_hope/scripts/awicm-pism_minitest.run\n",
      "/work/ollie/pgierz/awicm_pism_tests/new_hope\n"
     ]
    }
   ],
   "source": [
    "print(exp_runscript)\n",
    "exp_top = exp_runscript.split(\"/\")[:-2]\n",
    "print(\"/\".join(exp_top))"
   ]
  },
  {
   "cell_type": "code",
   "execution_count": 11,
   "metadata": {},
   "outputs": [
    {
     "data": {
      "text/plain": [
       "'ollie'"
      ]
     },
     "execution_count": 11,
     "metadata": {},
     "output_type": "execute_result"
    }
   ],
   "source": [
    "# Read in the definitions from the runscript:\n",
    "with open(exp_runscript) as f:\n",
    "    runscript = f.readlines()\n",
    "machine = [l for l in runscript if \"machine_name\" in l][0].split(\"=\")[1].split(\" \")[0]\n",
    "machine"
   ]
  },
  {
   "cell_type": "code",
   "execution_count": 95,
   "metadata": {},
   "outputs": [
    {
     "data": {
      "text/html": [
       "<div>\n",
       "<style>\n",
       "    .dataframe thead tr:only-child th {\n",
       "        text-align: right;\n",
       "    }\n",
       "\n",
       "    .dataframe thead th {\n",
       "        text-align: left;\n",
       "    }\n",
       "\n",
       "    .dataframe tbody tr th {\n",
       "        vertical-align: top;\n",
       "    }\n",
       "</style>\n",
       "<table border=\"1\" class=\"dataframe\">\n",
       "  <thead>\n",
       "    <tr style=\"text-align: right;\">\n",
       "      <th></th>\n",
       "      <th>JOBID</th>\n",
       "      <th>PARTITION</th>\n",
       "      <th>NAME</th>\n",
       "      <th>USER</th>\n",
       "      <th>STATE</th>\n",
       "      <th>START_TIME</th>\n",
       "      <th>TIME</th>\n",
       "      <th>TIME_LIMI</th>\n",
       "      <th>NODES</th>\n",
       "      <th>NODELIST(REASON)</th>\n",
       "    </tr>\n",
       "  </thead>\n",
       "  <tbody>\n",
       "    <tr>\n",
       "      <th>0</th>\n",
       "      <td>2473677</td>\n",
       "      <td>mpp</td>\n",
       "      <td>ugh</td>\n",
       "      <td>pgierz</td>\n",
       "      <td>RUNNING</td>\n",
       "      <td>2018-10-10 14:51:06</td>\n",
       "      <td>3:24</td>\n",
       "      <td>3:00:00</td>\n",
       "      <td>20</td>\n",
       "      <td>prod-[0004-0005,0010-0011,0014-0015,0022-0025,...</td>\n",
       "    </tr>\n",
       "    <tr>\n",
       "      <th>1</th>\n",
       "      <td>2473669</td>\n",
       "      <td>mpp</td>\n",
       "      <td>newer_hope</td>\n",
       "      <td>pgierz</td>\n",
       "      <td>RUNNING</td>\n",
       "      <td>2018-10-10 14:04:10</td>\n",
       "      <td>50:20</td>\n",
       "      <td>3:00:00</td>\n",
       "      <td>20</td>\n",
       "      <td>prod-[0041-0042,0120-0121,0124-0125,0143-0144,...</td>\n",
       "    </tr>\n",
       "  </tbody>\n",
       "</table>\n",
       "</div>"
      ],
      "text/plain": [
       "     JOBID PARTITION        NAME    USER    STATE          START_TIME   TIME  \\\n",
       "0  2473677       mpp         ugh  pgierz  RUNNING 2018-10-10 14:51:06   3:24   \n",
       "1  2473669       mpp  newer_hope  pgierz  RUNNING 2018-10-10 14:04:10  50:20   \n",
       "\n",
       "  TIME_LIMI NODES                                   NODELIST(REASON)  \n",
       "0   3:00:00    20  prod-[0004-0005,0010-0011,0014-0015,0022-0025,...  \n",
       "1   3:00:00    20  prod-[0041-0042,0120-0121,0124-0125,0143-0144,...  "
      ]
     },
     "execution_count": 95,
     "metadata": {},
     "output_type": "execute_result"
    }
   ],
   "source": [
    "# Figure out what batch system we have, and print the queue if we can\n",
    "function_path = [l for l in runscript if \"FUNCTION_PATH\" in l][0].split(\"=\")[1].split(\" \")[0].strip()\n",
    "if \"slurm\" in open(function_path+\"/\"+machine+\".functions\").read():\n",
    "    batch_system = \"slurm\"\n",
    "    queue_status = subprocess.getoutput([\"squeue -o \\\"%.18i %.9P %.20j %.8u %.8T  %S %.10M %.9l %.6D %R\\\" -u pgierz\"])\n",
    "    queue_status = [\" \".join(l.split()) for l in queue_status.split(\"\\n\")]\n",
    "    queue_status = [l.split() for l in queue_status]\n",
    "    queue_df = pd.DataFrame(queue_status[1:])\n",
    "    queue_df.columns = queue_status[0]\n",
    "    queue_df[\"START_TIME\"] = pd.to_datetime(queue_df[\"START_TIME\"])\n",
    "else:\n",
    "    batch_system = \"undefined\"\n",
    "queue_df"
   ]
  },
  {
   "cell_type": "code",
   "execution_count": 22,
   "metadata": {},
   "outputs": [],
   "source": [
    "    def get_log_output(exp_path):\n",
    "        expid = exp_path.split(\"/\")[-1]\n",
    "        stdin, stdout, stderr = client.exec_command('cat '+exp_path+\"/scripts/\"+expid+\".log\")\n",
    "        return stdout\n",
    "\n",
    "    def generate_dataframe_from_mpiesm_logfile(log):\n",
    "        log_dataframe = pd.read_table(log,\n",
    "                                      sep=r\" :  | -\" ,\n",
    "                                      skiprows=1,\n",
    "                                      infer_datetime_format=True,\n",
    "                                      names=[\"Date\", \"Message\", \"State\"],\n",
    "                                      engine='python', index_col=0)\n",
    "    middle_column = log_dataframe[\"Message\"].apply(lambda x: pd.Series(str(x).split()))\n",
    "    log_dataframe.drop(\"Message\", axis=1, inplace=True)\n",
    "    middle_column.columns = [\"Run Number\", \"Exp Date\", \"Job ID\"]\n",
    "    log_dataframe = pd.concat([log_dataframe, middle_column], axis=1)\n",
    "    log_dataframe.set_index(pd.to_datetime(log_dataframe.index), inplace=True)\n",
    "    return log_dataframe\n",
    "\n",
    "def compute_effective_throughput(log_dataframe, verbose=False):\n",
    "    starts = log_dataframe[log_dataframe.State == \" start\"]\n",
    "    ends = log_dataframe[log_dataframe.State == \" done\"]\n",
    "    starts = starts.index.tolist()\n",
    "    ends = ends.index.tolist()\n",
    "    starts = starts[:len(ends)]  # FIXME: the needs to be checked in both directions, and always norm to the shorter list\n",
    "    diffs = [ends[i] - starts[i] for i in range(len(ends))]\n",
    "    average_timedelta = sum(diffs, datetime.timedelta(0)) / len(diffs)\n",
    "    DAY = datetime.timedelta(1)\n",
    "    throughput = DAY / average_timedelta\n",
    "    if verbose:\n",
    "        print(\"Your run is taking %s on average\" % average_timedelta)\n",
    "        print(\"this is an effective throughput of %s simulated runs per day, assuming no queue time\" % throughput)\n",
    "    return average_timedelta, throughput\n",
    "\n",
    "client = paramiko.SSHClient()\n",
    "client.load_system_host_keys()\n",
    "client.connect('stan1.awi.de')\n",
    "stdin, stdout, stderr = client.exec_command('qstat -l')\n",
    "\n",
    "queue_status = stdout.readlines()\n",
    "queue_status = [l.split() for l in queue_status]\n",
    "del queue_status[1]\n",
    "queue_df = pd.DataFrame(queue_status[1:])\n",
    "queue_df.columns = queue_status[0]\n",
    "queue_df\n"
   ]
  }
 ],
 "metadata": {
  "kernelspec": {
   "display_name": "Python 3",
   "language": "python",
   "name": "python3"
  },
  "language_info": {
   "codemirror_mode": {
    "name": "ipython",
    "version": 3
   },
   "file_extension": ".py",
   "mimetype": "text/x-python",
   "name": "python",
   "nbconvert_exporter": "python",
   "pygments_lexer": "ipython3",
   "version": "3.6.3"
  }
 },
 "nbformat": 4,
 "nbformat_minor": 2
}
